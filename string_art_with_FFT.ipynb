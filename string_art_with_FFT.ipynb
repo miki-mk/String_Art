{
 "cells": [
  {
   "cell_type": "code",
   "execution_count": 49,
   "id": "734a9b63",
   "metadata": {},
   "outputs": [],
   "source": [
    "import cv2\n",
    "import numpy as np\n",
    "import math\n",
    "from random import randint\n",
    "import itertools"
   ]
  },
  {
   "cell_type": "code",
   "execution_count": 50,
   "id": "18b89573",
   "metadata": {},
   "outputs": [],
   "source": [
    "from scipy.fft import fft2, fftshift"
   ]
  },
  {
   "cell_type": "code",
   "execution_count": 51,
   "id": "2653adea",
   "metadata": {},
   "outputs": [],
   "source": [
    "def FFT_(image):    \n",
    "    f = fft2(image)\n",
    "    # Shift the zero-frequency component to the center\n",
    "    fshift = fftshift(f)\n",
    "    # Compute magnitude spectrum\n",
    "    magnitude_spectrum = 20 * np.log(np.abs(fshift) + 1e-8)  # add epsilon to avoid log(0)\n",
    "    max_abs_val = np.max(np.abs(magnitude_spectrum))\n",
    "    im = np.abs(magnitude_spectrum)/max_abs_val\n",
    "    return im"
   ]
  },
  {
   "cell_type": "code",
   "execution_count": 52,
   "id": "f838fa05",
   "metadata": {},
   "outputs": [],
   "source": [
    "def crop_to_circle(image):\n",
    "    \"\"\"Crop the input image to a circular shape.\"\"\"\n",
    "    height, width = image.shape\n",
    "    center = (width // 2, height // 2)\n",
    "    radius = min(center)\n",
    "    \n",
    "    # Create a circular mask\n",
    "    mask = np.zeros((height, width), dtype=np.uint8)\n",
    "    cv2.circle(mask, center, radius, 255, -1)\n",
    "    \n",
    "    # Apply the mask to the image\n",
    "    cropped = cv2.bitwise_and(image, image, mask=mask)\n",
    "    return cropped, center, radius\n",
    "def generate_nail_positions(center, radius, num_nails):\n",
    "    \"\"\"Generate evenly spaced nail positions around the circle.\"\"\"\n",
    "    nails = []\n",
    "    for i in range(num_nails):\n",
    "        angle = 2 * math.pi * i / num_nails\n",
    "        x = int(center[0] + radius * math.cos(angle))\n",
    "        y = int(center[1] + radius * math.sin(angle))\n",
    "        nails.append((x, y))\n",
    "    return nails\n",
    "def combination(nail_positions):\n",
    "    comb = np.array(list(itertools.combinations(range(len(nail_positions)),2)))\n",
    "    return comb"
   ]
  },
  {
   "cell_type": "code",
   "execution_count": null,
   "id": "7c076839",
   "metadata": {},
   "outputs": [],
   "source": []
  },
  {
   "cell_type": "code",
   "execution_count": 60,
   "id": "d971a99c",
   "metadata": {},
   "outputs": [],
   "source": [
    "def string_art_generator(image, num_nails=200, max_iterations=1000):\n",
    "    canvas, center_, radius_ = crop_to_circle(np.ones((image.shape)))\n",
    "    cropped_image, center, radius = crop_to_circle(image)\n",
    "\n",
    "    nail_positions = generate_nail_positions(center, radius, num_nails)\n",
    "    comb_nail = combination(nail_positions)\n",
    "    FFT_dict = {}\n",
    "    for i,j in comb_nail:\n",
    "        im = canvas.copy()\n",
    "        cv2.line(im,nail_positions[i],nail_positions[j], (0,0,0), 1)\n",
    "        FFT_dict[nail_positions[i],nail_positions[j]] = FFT_(im)\n",
    "    \n",
    "    visited_pairs = set()\n",
    "    orginal_FFT = FFT_(cropped_image)\n",
    "    \n",
    "    iter_ = 0\n",
    "    count = 0\n",
    "    # Main loop\n",
    "    for _ in range(max_iterations - 1):\n",
    "        iter_ += 1\n",
    "        print(\"iteration : \" , iter_)\n",
    "        min_integral = float(np.inf)\n",
    "        count = 0\n",
    "        for x, y in comb_nail:\n",
    "            canvas_fft = FFT_(canvas)\n",
    "            count += 1\n",
    "            if count % 50 == 0 : print(\"count : \" , count)\n",
    "\n",
    "            curr_n =  nail_positions[x]\n",
    "            next_n = nail_positions[y]\n",
    "            canvas_fft = canvas_fft + FFT_dict[(curr_n,next_n)]\n",
    "            canvas_fft = canvas_fft / canvas_fft.max()\n",
    "\n",
    "            diff_ = np.mean(np.abs(orginal_FFT.flatten() - canvas_fft.flatten()))\n",
    "            if diff_ < min_integral:  \n",
    "                min_integral = diff_\n",
    "                a,b = curr_n , next_n\n",
    "          \n",
    "        # If no valid next nail is found, break\n",
    "        if min_integral == np.inf:\n",
    "            print(\"broken\")\n",
    "            break\n",
    "        canvas = cv2.line(canvas, a, b, (0,0,0), 1) \n",
    "        \n",
    "    cv2.imshow('String Art',canvas)\n",
    "    cv2.waitKey(0)\n",
    "    cv2.destroyAllWindows()\n",
    "    return canvas\n"
   ]
  },
  {
   "cell_type": "code",
   "execution_count": 58,
   "id": "b27eca1a",
   "metadata": {},
   "outputs": [],
   "source": [
    "image = cv2.imread('f1.jpg', cv2.IMREAD_GRAYSCALE)\n",
    "image = cv2.resize(image, (900,900))\n",
    "image = image / image.max()\n",
    "#image = cv2.bitwise_not(image)\n",
    "#_, image = cv2.threshold(image, 127, 255, cv2.THRESH_BINARY_INV)\n",
    "\n",
    "cv2.imshow('String Art', image)\n",
    "cv2.waitKey(0)\n",
    "cv2.destroyAllWindows()\n"
   ]
  },
  {
   "cell_type": "code",
   "execution_count": 63,
   "id": "89e951c6",
   "metadata": {},
   "outputs": [
    {
     "ename": "KeyboardInterrupt",
     "evalue": "",
     "output_type": "error",
     "traceback": [
      "\u001b[1;31m---------------------------------------------------------------------------\u001b[0m",
      "\u001b[1;31mKeyboardInterrupt\u001b[0m                         Traceback (most recent call last)",
      "Cell \u001b[1;32mIn[63], line 1\u001b[0m\n\u001b[1;32m----> 1\u001b[0m string_art \u001b[38;5;241m=\u001b[39m \u001b[43mstring_art_generator\u001b[49m\u001b[43m(\u001b[49m\u001b[43mimage\u001b[49m\u001b[43m,\u001b[49m\u001b[43m \u001b[49m\u001b[43mnum_nails\u001b[49m\u001b[38;5;241;43m=\u001b[39;49m\u001b[38;5;241;43m100\u001b[39;49m\u001b[43m,\u001b[49m\u001b[43m \u001b[49m\u001b[43mmax_iterations\u001b[49m\u001b[38;5;241;43m=\u001b[39;49m\u001b[38;5;241;43m100\u001b[39;49m\u001b[43m)\u001b[49m\n",
      "Cell \u001b[1;32mIn[60], line 11\u001b[0m, in \u001b[0;36mstring_art_generator\u001b[1;34m(image, num_nails, max_iterations)\u001b[0m\n\u001b[0;32m      9\u001b[0m     im \u001b[38;5;241m=\u001b[39m canvas\u001b[38;5;241m.\u001b[39mcopy()\n\u001b[0;32m     10\u001b[0m     cv2\u001b[38;5;241m.\u001b[39mline(im,nail_positions[i],nail_positions[j], (\u001b[38;5;241m0\u001b[39m,\u001b[38;5;241m0\u001b[39m,\u001b[38;5;241m0\u001b[39m), \u001b[38;5;241m1\u001b[39m)\n\u001b[1;32m---> 11\u001b[0m     FFT_dict[nail_positions[i],nail_positions[j]] \u001b[38;5;241m=\u001b[39m \u001b[43mFFT_\u001b[49m\u001b[43m(\u001b[49m\u001b[43mim\u001b[49m\u001b[43m)\u001b[49m\n\u001b[0;32m     13\u001b[0m visited_pairs \u001b[38;5;241m=\u001b[39m \u001b[38;5;28mset\u001b[39m()\n\u001b[0;32m     14\u001b[0m orginal_FFT \u001b[38;5;241m=\u001b[39m FFT_(cropped_image)\n",
      "Cell \u001b[1;32mIn[51], line 6\u001b[0m, in \u001b[0;36mFFT_\u001b[1;34m(image)\u001b[0m\n\u001b[0;32m      4\u001b[0m fshift \u001b[38;5;241m=\u001b[39m fftshift(f)\n\u001b[0;32m      5\u001b[0m \u001b[38;5;66;03m# Compute magnitude spectrum\u001b[39;00m\n\u001b[1;32m----> 6\u001b[0m magnitude_spectrum \u001b[38;5;241m=\u001b[39m \u001b[38;5;241m20\u001b[39m \u001b[38;5;241m*\u001b[39m \u001b[43mnp\u001b[49m\u001b[38;5;241;43m.\u001b[39;49m\u001b[43mlog\u001b[49m\u001b[43m(\u001b[49m\u001b[43mnp\u001b[49m\u001b[38;5;241;43m.\u001b[39;49m\u001b[43mabs\u001b[49m\u001b[43m(\u001b[49m\u001b[43mfshift\u001b[49m\u001b[43m)\u001b[49m\u001b[43m \u001b[49m\u001b[38;5;241;43m+\u001b[39;49m\u001b[43m \u001b[49m\u001b[38;5;241;43m1e-8\u001b[39;49m\u001b[43m)\u001b[49m  \u001b[38;5;66;03m# add epsilon to avoid log(0)\u001b[39;00m\n\u001b[0;32m      7\u001b[0m max_abs_val \u001b[38;5;241m=\u001b[39m np\u001b[38;5;241m.\u001b[39mmax(np\u001b[38;5;241m.\u001b[39mabs(magnitude_spectrum))\n\u001b[0;32m      8\u001b[0m im \u001b[38;5;241m=\u001b[39m np\u001b[38;5;241m.\u001b[39mabs(magnitude_spectrum)\u001b[38;5;241m/\u001b[39mmax_abs_val\n",
      "\u001b[1;31mKeyboardInterrupt\u001b[0m: "
     ]
    }
   ],
   "source": [
    "string_art = string_art_generator(image, num_nails=100, max_iterations=100)"
   ]
  },
  {
   "cell_type": "code",
   "execution_count": null,
   "id": "67f09863",
   "metadata": {},
   "outputs": [],
   "source": []
  },
  {
   "cell_type": "code",
   "execution_count": null,
   "id": "da135997",
   "metadata": {},
   "outputs": [],
   "source": []
  },
  {
   "cell_type": "code",
   "execution_count": null,
   "id": "a23d08fe",
   "metadata": {},
   "outputs": [],
   "source": []
  }
 ],
 "metadata": {
  "kernelspec": {
   "display_name": "Python 3",
   "language": "python",
   "name": "python3"
  },
  "language_info": {
   "codemirror_mode": {
    "name": "ipython",
    "version": 3
   },
   "file_extension": ".py",
   "mimetype": "text/x-python",
   "name": "python",
   "nbconvert_exporter": "python",
   "pygments_lexer": "ipython3",
   "version": "3.12.0"
  }
 },
 "nbformat": 4,
 "nbformat_minor": 5
}
