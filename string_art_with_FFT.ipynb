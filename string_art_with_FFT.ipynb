{
 "cells": [
  {
   "cell_type": "code",
   "execution_count": null,
   "id": "734a9b63",
   "metadata": {},
   "outputs": [],
   "source": [
    "import cv2\n",
    "import numpy as np\n",
    "import math\n",
    "from random import randint"
   ]
  },
  {
   "cell_type": "code",
   "execution_count": null,
   "id": "18b89573",
   "metadata": {},
   "outputs": [],
   "source": [
    "from scipy.fft import fft2, fftshift"
   ]
  },
  {
   "cell_type": "code",
   "execution_count": null,
   "id": "2653adea",
   "metadata": {},
   "outputs": [],
   "source": [
    "def FFT_(image):    \n",
    "    f = fft2(image)\n",
    "    # Shift the zero-frequency component to the center\n",
    "    fshift = fftshift(f)\n",
    "    # Compute magnitude spectrum\n",
    "    magnitude_spectrum = 20 * np.log(np.abs(fshift) + 1e-8)  # add epsilon to avoid log(0)\n",
    "    max_abs_val = np.max(np.abs(magnitude_spectrum))\n",
    "    im = np.abs(magnitude_spectrum)/max_abs_val\n",
    "    return im"
   ]
  },
  {
   "cell_type": "code",
   "execution_count": null,
   "id": "f838fa05",
   "metadata": {},
   "outputs": [],
   "source": [
    "def crop_to_circle(image):\n",
    "    \"\"\"Crop the input image to a circular shape.\"\"\"\n",
    "    height, width = image.shape\n",
    "    center = (width // 2, height // 2)\n",
    "    radius = min(center)\n",
    "    \n",
    "    # Create a circular mask\n",
    "    mask = np.zeros((height, width), dtype=np.uint8)\n",
    "    cv2.circle(mask, center, radius, 255, -1)\n",
    "    \n",
    "    # Apply the mask to the image\n",
    "    cropped = cv2.bitwise_and(image, image, mask=mask)\n",
    "    return cropped, center, radius\n",
    "def generate_nail_positions(center, radius, num_nails):\n",
    "    \"\"\"Generate evenly spaced nail positions around the circle.\"\"\"\n",
    "    nails = []\n",
    "    for i in range(num_nails):\n",
    "        angle = 2 * math.pi * i / num_nails\n",
    "        x = int(center[0] + radius * math.cos(angle))\n",
    "        y = int(center[1] + radius * math.sin(angle))\n",
    "        nails.append((x, y))\n",
    "    return nails\n"
   ]
  },
  {
   "cell_type": "code",
   "execution_count": null,
   "id": "d971a99c",
   "metadata": {},
   "outputs": [],
   "source": [
    "def string_art_generator(image, num_nails=200, max_iterations=1000):\n",
    "    canvas = np.ones((image.shape)) * 255\n",
    "    cropped_image, center, radius = crop_to_circle(image)\n",
    "    nail_positions = generate_nail_positions(center, radius, num_nails)\n",
    "    # Start at a random nail\n",
    "    current_nail_idx = randint(0, num_nails - 1)\n",
    "    sequence = [current_nail_idx]\n",
    "    visited_pairs = set()\n",
    "    cropped_image = FFT_(cropped_image)\n",
    "    canvasT = canvas\n",
    "    # Main loop\n",
    "    for _ in range(max_iterations - 1):\n",
    "        current_nail = nail_positions[current_nail_idx]\n",
    "        min_integral = float(np.inf)\n",
    "        next_nail_idx = -1\n",
    "        \n",
    "        # Evaluate all possible next nails\n",
    "        for i, next_nail in enumerate(nail_positions):\n",
    "            if (i == current_nail_idx) or ((current_nail_idx, i) in visited_pairs):\n",
    "                continue\n",
    "            #integral,n = calculate_integral(cropped_image, current_nail, next_nail)\n",
    "            canvasT = cv2.line(canvasT, current_nail, next_nail, (0,0,0), 1)\n",
    "            tr = FFT_(canvasT)\n",
    "            diff_ = (cropped_image - canvasT).mean().mean()\n",
    "            if diff_ < min_integral:  \n",
    "                min_integral = diff_\n",
    "                next_nail_idx = i\n",
    "        \n",
    "        # If no valid next nail is found, break\n",
    "        if next_nail_idx == -1:\n",
    "            print(\"broken\")\n",
    "            break\n",
    "        \n",
    "        # Move to the next nail\n",
    "        visited_pairs.add((current_nail_idx, next_nail_idx))\n",
    "        canvas = cv2.line(canvas, current_nail, next_nail, (0,0,0), 1)\n",
    "        current_nail_idx = next_nail_idx\n",
    "        sequence.append(current_nail_idx)\n",
    "    cv2.imshow('String Art',cropped_image)\n",
    "    cv2.waitKey(0)\n",
    "    cv2.destroyAllWindows()\n",
    "    return nail_positions, sequence\n"
   ]
  },
  {
   "cell_type": "code",
   "execution_count": null,
   "id": "b27eca1a",
   "metadata": {},
   "outputs": [],
   "source": [
    "image = cv2.imread('f1.jpg', cv2.IMREAD_GRAYSCALE)\n",
    "image = cv2.resize(image, (900,900))\n",
    "#image = cv2.bitwise_not(image)\n",
    "#_, image = cv2.threshold(image, 127, 255, cv2.THRESH_BINARY_INV)\n",
    "    \n",
    "cv2.imshow('String Art', image)\n",
    "cv2.waitKey(0)\n",
    "cv2.destroyAllWindows()"
   ]
  },
  {
   "cell_type": "code",
   "execution_count": null,
   "id": "89e951c6",
   "metadata": {},
   "outputs": [],
   "source": [
    "#n = string_art_generator(image, num_nails=200, max_iterations=1000)"
   ]
  },
  {
   "cell_type": "code",
   "execution_count": null,
   "id": "d1926b03",
   "metadata": {},
   "outputs": [],
   "source": []
  },
  {
   "cell_type": "code",
   "execution_count": null,
   "id": "334ccb67",
   "metadata": {},
   "outputs": [],
   "source": []
  }
 ],
 "metadata": {
  "language_info": {
   "name": "python"
  }
 },
 "nbformat": 4,
 "nbformat_minor": 5
}
